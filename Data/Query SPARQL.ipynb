{
 "cells": [
  {
   "cell_type": "code",
   "execution_count": null,
   "id": "28c4ea23",
   "metadata": {},
   "outputs": [],
   "source": [
    "from rdflib import Graph, Literal, RDF, URIRef\n",
    "from rdflib.namespace import FOAF , XSD"
   ]
  },
  {
   "cell_type": "code",
   "execution_count": 14,
   "id": "e141867b",
   "metadata": {},
   "outputs": [
    {
     "data": {
      "text/plain": [
       "<Graph identifier=Nb11e86ff2e7241e2b98d9d766122aeb2 (<class 'rdflib.graph.Graph'>)>"
      ]
     },
     "execution_count": 14,
     "metadata": {},
     "output_type": "execute_result"
    }
   ],
   "source": [
    "from rdflib import Graph\n",
    "\n",
    "\n",
    "# Create a Graph, pare in Internet data\n",
    "g = Graph()\n",
    "g.parse(\"triple2.ttl\",format=\"ttl\")\n",
    "\n",
    "# Query the data in g using SPARQL\n",
    "# This query returns the 'name' of all ``foaf:Person`` instances\n",
    "\n",
    "# prints: Timothy Berners-Lee"
   ]
  },
  {
   "cell_type": "code",
   "execution_count": null,
   "id": "e1543abc",
   "metadata": {},
   "outputs": [],
   "source": [
    "q = \"\"\"\n",
    "    PREFIX foaf: <http://xmlns.com/foaf/0.1/>\n",
    "\n",
    "    SELECT ?name\n",
    "    WHERE {\n",
    "        ?p rdf:type foaf:Person .\n",
    "\n",
    "        ?p foaf:name ?name .\n",
    "    }\n",
    "\"\"\"\n",
    "\n",
    "# Apply the query to the graph and iterate through results\n",
    "for r in g.query(q):\n",
    "    print(r[\"name\"])\n"
   ]
  },
  {
   "cell_type": "code",
   "execution_count": null,
   "id": "e1eb1174",
   "metadata": {},
   "outputs": [],
   "source": []
  }
 ],
 "metadata": {
  "kernelspec": {
   "display_name": "Python 3",
   "language": "python",
   "name": "python3"
  },
  "language_info": {
   "codemirror_mode": {
    "name": "ipython",
    "version": 3
   },
   "file_extension": ".py",
   "mimetype": "text/x-python",
   "name": "python",
   "nbconvert_exporter": "python",
   "pygments_lexer": "ipython3",
   "version": "3.8.8"
  }
 },
 "nbformat": 4,
 "nbformat_minor": 5
}
